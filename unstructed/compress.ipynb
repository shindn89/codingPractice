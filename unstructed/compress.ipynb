{
 "cells": [
  {
   "cell_type": "code",
   "execution_count": 73,
   "metadata": {},
   "outputs": [],
   "source": [
    "def compress(s):\n",
    "\n",
    "    if(len(s) == 0):\n",
    "        return \"\"\n",
    "    \n",
    "    if(len(s) == 1):\n",
    "        return s + \"1\"\n",
    "    \n",
    "    \n",
    "    new_word = []\n",
    "    count = 1\n",
    "    #prev= s[0]\n",
    "    i = 1\n",
    "    \n",
    "    while i < len(s):\n",
    "        if s[i-1] == s[i]:\n",
    "            count+=1\n",
    "        else:\n",
    "            new_word.append(s[i-1])\n",
    "            new_word.append(str(count))\n",
    "            count = 1\n",
    "\n",
    "        i+=1\n",
    "        \n",
    "    return ''.join(new_word)\n",
    "        \n",
    "    "
   ]
  },
  {
   "cell_type": "code",
   "execution_count": 74,
   "metadata": {},
   "outputs": [
    {
     "data": {
      "text/plain": [
       "'A2B2'"
      ]
     },
     "execution_count": 74,
     "metadata": {},
     "output_type": "execute_result"
    }
   ],
   "source": [
    "compress('AABBCC')"
   ]
  },
  {
   "cell_type": "code",
   "execution_count": null,
   "metadata": {},
   "outputs": [],
   "source": []
  },
  {
   "cell_type": "code",
   "execution_count": null,
   "metadata": {
    "collapsed": true
   },
   "outputs": [],
   "source": []
  },
  {
   "cell_type": "code",
   "execution_count": null,
   "metadata": {
    "collapsed": true
   },
   "outputs": [],
   "source": []
  }
 ],
 "metadata": {
  "kernelspec": {
   "display_name": "Python 3",
   "language": "python",
   "name": "python3"
  },
  "language_info": {
   "codemirror_mode": {
    "name": "ipython",
    "version": 3
   },
   "file_extension": ".py",
   "mimetype": "text/x-python",
   "name": "python",
   "nbconvert_exporter": "python",
   "pygments_lexer": "ipython3",
   "version": "3.6.2"
  }
 },
 "nbformat": 4,
 "nbformat_minor": 2
}
