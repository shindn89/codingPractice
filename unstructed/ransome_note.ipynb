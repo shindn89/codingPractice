{
 "cells": [
  {
   "cell_type": "code",
   "execution_count": 20,
   "metadata": {},
   "outputs": [],
   "source": [
    "def ransom_note(magazine, ransom):\n",
    "    \n",
    "    m = magazine.split(\" \")\n",
    "    r = ransom.split(\" \")\n",
    "    i = 0\n",
    "    j = 0\n",
    "    result = False\n",
    "   \n",
    "    while i < len(m) -1 and j < len(r) -1:\n",
    "        if m[i] == r[j]:\n",
    "            i+=1\n",
    "            j+=1\n",
    "        else:\n",
    "            if m[i+1]==r[j] or m[i]==r[j+1]:\n",
    "                result = True\n",
    "                i+=1\n",
    "                j+=1\n",
    "            else:\n",
    "                return False\n",
    "            \n",
    "    \n",
    "    return result"
   ]
  },
  {
   "cell_type": "code",
   "execution_count": 21,
   "metadata": {},
   "outputs": [
    {
     "data": {
      "text/plain": [
       "True"
      ]
     },
     "execution_count": 21,
     "metadata": {},
     "output_type": "execute_result"
    }
   ],
   "source": [
    "ransom_note(\"give me one grand today night\", \"give one grand today\")"
   ]
  },
  {
   "cell_type": "code",
   "execution_count": 16,
   "metadata": {},
   "outputs": [
    {
     "name": "stdout",
     "output_type": "stream",
     "text": [
      "['two', 'times', 'three', 'is', 'not', 'four']\n",
      "two\n",
      "6\n"
     ]
    }
   ],
   "source": [
    "a = \"two times three is not four\"\n",
    "a2 = a.split(\" \")\n",
    "\n",
    "print(a2)\n",
    "print(a2[0])\n",
    "print(len(a2))"
   ]
  },
  {
   "cell_type": "code",
   "execution_count": null,
   "metadata": {
    "collapsed": true
   },
   "outputs": [],
   "source": [
    "def ransom_note2(magazine, ransom):\n",
    "    \n",
    "    m = magazine.split(\" \")\n",
    "    r = ransom.split(\" \")\n",
    "    \n",
    "    if len(m) == len(r):\n",
    "        if m == r: True\n",
    "            else: False\n",
    "    if len(m) > len(r)\n",
    "        carry = m\n",
    "        follow = r\n",
    "    if len(m) < len(r)\n",
    "        carry = r\n",
    "        follow = m\n",
    "    seen = set()\n",
    "    while a in carry\n",
    "        seen.add(a)\n",
    "        \n",
    "    while a in follow\n",
    "        seen.\n",
    "    \n",
    "    \n",
    "    \n",
    "    \n",
    "        \n",
    "    \n",
    "    \n",
    "    \n",
    "    \n",
    "    \n",
    "    \n",
    "    i = 0\n",
    "    j = 0\n",
    "    result = False\n",
    "   \n",
    "    while i < len(m) -1 and j < len(r) -1:\n",
    "        if m[i] == r[j]:\n",
    "            i+=1\n",
    "            j+=1\n",
    "        else:\n",
    "            if m[i+1]==r[j] or m[i]==r[j+1]:\n",
    "                result = True\n",
    "                i+=1\n",
    "                j+=1\n",
    "            else:\n",
    "                return False\n",
    "            \n",
    "    \n",
    "    return result"
   ]
  }
 ],
 "metadata": {
  "kernelspec": {
   "display_name": "Python 3",
   "language": "python",
   "name": "python3"
  },
  "language_info": {
   "codemirror_mode": {
    "name": "ipython",
    "version": 3
   },
   "file_extension": ".py",
   "mimetype": "text/x-python",
   "name": "python",
   "nbconvert_exporter": "python",
   "pygments_lexer": "ipython3",
   "version": "3.6.2"
  }
 },
 "nbformat": 4,
 "nbformat_minor": 2
}
