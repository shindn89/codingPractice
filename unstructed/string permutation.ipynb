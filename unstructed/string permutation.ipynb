{
 "cells": [
  {
   "cell_type": "code",
   "execution_count": 44,
   "metadata": {},
   "outputs": [],
   "source": [
    "def permute(s):\n",
    "    \n",
    "    output = []\n",
    "    if len(s) == 1:\n",
    "        output = [s]\n",
    "        \n",
    "    else:\n",
    "        for i, let in enumerate(s):\n",
    "            \n",
    "            for perm in permute(s[:i] + s[i+1:]):\n",
    "                print(\"let is \",let)\n",
    "                print( \"perm is \",perm)\n",
    "                output +=[let + perm]\n",
    "                print(\"output is \", output)\n",
    "                print(\"-----------------------------\")\n",
    "                \n",
    "    return output"
   ]
  },
  {
   "cell_type": "code",
   "execution_count": 45,
   "metadata": {},
   "outputs": [
    {
     "name": "stdout",
     "output_type": "stream",
     "text": [
      "let is  b\n",
      "perm is  c\n",
      "output is  ['bc']\n",
      "-----------------------------\n",
      "let is  c\n",
      "perm is  b\n",
      "output is  ['bc', 'cb']\n",
      "-----------------------------\n",
      "let is  a\n",
      "perm is  bc\n",
      "output is  ['abc']\n",
      "-----------------------------\n",
      "let is  a\n",
      "perm is  cb\n",
      "output is  ['abc', 'acb']\n",
      "-----------------------------\n",
      "let is  a\n",
      "perm is  c\n",
      "output is  ['ac']\n",
      "-----------------------------\n",
      "let is  c\n",
      "perm is  a\n",
      "output is  ['ac', 'ca']\n",
      "-----------------------------\n",
      "let is  b\n",
      "perm is  ac\n",
      "output is  ['abc', 'acb', 'bac']\n",
      "-----------------------------\n",
      "let is  b\n",
      "perm is  ca\n",
      "output is  ['abc', 'acb', 'bac', 'bca']\n",
      "-----------------------------\n",
      "let is  a\n",
      "perm is  b\n",
      "output is  ['ab']\n",
      "-----------------------------\n",
      "let is  b\n",
      "perm is  a\n",
      "output is  ['ab', 'ba']\n",
      "-----------------------------\n",
      "let is  c\n",
      "perm is  ab\n",
      "output is  ['abc', 'acb', 'bac', 'bca', 'cab']\n",
      "-----------------------------\n",
      "let is  c\n",
      "perm is  ba\n",
      "output is  ['abc', 'acb', 'bac', 'bca', 'cab', 'cba']\n",
      "-----------------------------\n"
     ]
    },
    {
     "data": {
      "text/plain": [
       "['abc', 'acb', 'bac', 'bca', 'cab', 'cba']"
      ]
     },
     "execution_count": 45,
     "metadata": {},
     "output_type": "execute_result"
    }
   ],
   "source": [
    "permute('abc')"
   ]
  },
  {
   "cell_type": "code",
   "execution_count": 25,
   "metadata": {
    "collapsed": true
   },
   "outputs": [],
   "source": [
    "sti = \"bc\""
   ]
  },
  {
   "cell_type": "code",
   "execution_count": 26,
   "metadata": {},
   "outputs": [
    {
     "name": "stdout",
     "output_type": "stream",
     "text": [
      "c\n"
     ]
    }
   ],
   "source": [
    "print(sti[:0]+sti[1:])"
   ]
  },
  {
   "cell_type": "code",
   "execution_count": null,
   "metadata": {
    "collapsed": true
   },
   "outputs": [],
   "source": []
  }
 ],
 "metadata": {
  "kernelspec": {
   "display_name": "Python 3",
   "language": "python",
   "name": "python3"
  },
  "language_info": {
   "codemirror_mode": {
    "name": "ipython",
    "version": 3
   },
   "file_extension": ".py",
   "mimetype": "text/x-python",
   "name": "python",
   "nbconvert_exporter": "python",
   "pygments_lexer": "ipython3",
   "version": "3.6.2"
  }
 },
 "nbformat": 4,
 "nbformat_minor": 2
}
