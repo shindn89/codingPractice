{
 "cells": [
  {
   "cell_type": "code",
   "execution_count": null,
   "metadata": {},
   "outputs": [],
   "source": [
    "def array_left_rotation(a, n, k):\n",
    "    if(n<k):    return a\n",
    "    output = []\n",
    "    right_rotation = n-k\n",
    "    i = 0\n",
    "    l = len(a)\n",
    "    while(i<l):\n",
    "        if(i+right_rotation > l):\n",
    "            j = i+right_rotation - n\n",
    "        else:\n",
    "            j = i+rightrotation\n",
    "        #temp = a[j]\n",
    "        #a[j] = a[i]\n",
    "        #print (j)\n",
    "        output.insert(j,a[i])\n",
    "        i+=1\n",
    "\n",
    "    print(output)\n",
    "    return output"
   ]
  },
  {
   "cell_type": "code",
   "execution_count": null,
   "metadata": {},
   "outputs": [],
   "source": [
    "array_left_rotation([1,2,3,4],4,2)"
   ]
  },
  {
   "cell_type": "code",
   "execution_count": null,
   "metadata": {},
   "outputs": [],
   "source": [
    "print(array_left_rotation([1,2,3,4],4,2))"
   ]
  },
  {
   "cell_type": "code",
   "execution_count": null,
   "metadata": {},
   "outputs": [],
   "source": [
    "array_left_rotation(\"1,2,3,4,5\",5,4\n",
    "                   )"
   ]
  },
  {
   "cell_type": "code",
   "execution_count": null,
   "metadata": {},
   "outputs": [],
   "source": [
    "kk = []\n",
    "kk.insert(2,3)\n",
    "kk.insert(5,2)\n",
    "kk.insert(4,1)\n",
    "print(kk)"
   ]
  },
  {
   "cell_type": "code",
   "execution_count": null,
   "metadata": {
    "collapsed": true
   },
   "outputs": [],
   "source": [
    "def array_left_rotation(a, n, k):\n",
    "    if(n<k):    return a\n",
    "    output = []\n",
    "    right_rotation = n-k\n",
    "    i = 0\n",
    "    l = len(a)\n",
    "    while(i<l):\n",
    "        if(i+right_rotation >= l):\n",
    "            j = i+right_rotation - n\n",
    "        else:\n",
    "            j = i+right_rotation\n",
    "        temp = a[j]\n",
    "        a[j] = a[i]\n",
    "        #print (j)\n",
    "        #output.insert(j,a[i])\n",
    "        #i+=1\n",
    "\n",
    "    #print(output)\n",
    "    return a"
   ]
  },
  {
   "cell_type": "code",
   "execution_count": null,
   "metadata": {
    "collapsed": true
   },
   "outputs": [],
   "source": []
  }
 ],
 "metadata": {
  "kernelspec": {
   "display_name": "Python 3",
   "language": "python",
   "name": "python3"
  },
  "language_info": {
   "codemirror_mode": {
    "name": "ipython",
    "version": 3
   },
   "file_extension": ".py",
   "mimetype": "text/x-python",
   "name": "python",
   "nbconvert_exporter": "python",
   "pygments_lexer": "ipython3",
   "version": "3.6.2"
  }
 },
 "nbformat": 4,
 "nbformat_minor": 2
}
