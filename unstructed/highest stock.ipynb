{
 "cells": [
  {
   "cell_type": "code",
   "execution_count": 13,
   "metadata": {},
   "outputs": [],
   "source": [
    "def stock(ar):\n",
    "    mmin = ar[0]\n",
    "    mmax = 0\n",
    "    i = 1\n",
    "    while i < len(ar):\n",
    "        mmax = max(mmax, ar[i]-mmin)\n",
    "        mmin = min(mmin, ar[i])\n",
    "        #if ar[i] < mmin:\n",
    "        #    mmin = ar[i]\n",
    "        i+=1\n",
    "    return mmax"
   ]
  },
  {
   "cell_type": "code",
   "execution_count": 16,
   "metadata": {
    "collapsed": true
   },
   "outputs": [],
   "source": [
    "prices = [12,11,15,3,10]\n",
    "PP = [10,12,14,12,13,11,8,7,6,13,23,45,11,10]"
   ]
  },
  {
   "cell_type": "code",
   "execution_count": 17,
   "metadata": {},
   "outputs": [
    {
     "data": {
      "text/plain": [
       "39"
      ]
     },
     "execution_count": 17,
     "metadata": {},
     "output_type": "execute_result"
    }
   ],
   "source": [
    "stock(PP)"
   ]
  },
  {
   "cell_type": "code",
   "execution_count": 32,
   "metadata": {},
   "outputs": [],
   "source": [
    "import sys"
   ]
  },
  {
   "cell_type": "code",
   "execution_count": 33,
   "metadata": {
    "collapsed": true
   },
   "outputs": [],
   "source": [
    "def stock2(ar):\n",
    "    if len(ar) < 2:\n",
    "        return\n",
    "    mmin = ar[0]\n",
    "    mmax = -sys.maxsize\n",
    "    i = 1\n",
    "    while i < len(ar):\n",
    "        mmax = max(mmax, ar[i]-mmin)\n",
    "        mmin = min(mmin, ar[i])\n",
    "        #if ar[i] < mmin:\n",
    "        #    mmin = ar[i]\n",
    "        i+=1\n",
    "    return mmax"
   ]
  },
  {
   "cell_type": "code",
   "execution_count": 34,
   "metadata": {},
   "outputs": [
    {
     "data": {
      "text/plain": [
       "-1"
      ]
     },
     "execution_count": 34,
     "metadata": {},
     "output_type": "execute_result"
    }
   ],
   "source": [
    "stock2([30,22,21,5])"
   ]
  },
  {
   "cell_type": "code",
   "execution_count": null,
   "metadata": {
    "collapsed": true
   },
   "outputs": [],
   "source": []
  }
 ],
 "metadata": {
  "kernelspec": {
   "display_name": "Python 3",
   "language": "python",
   "name": "python3"
  },
  "language_info": {
   "codemirror_mode": {
    "name": "ipython",
    "version": 3
   },
   "file_extension": ".py",
   "mimetype": "text/x-python",
   "name": "python",
   "nbconvert_exporter": "python",
   "pygments_lexer": "ipython3",
   "version": "3.6.2"
  }
 },
 "nbformat": 4,
 "nbformat_minor": 2
}
