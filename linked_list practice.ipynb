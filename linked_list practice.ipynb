{
 "cells": [
  {
   "cell_type": "code",
   "execution_count": 3,
   "metadata": {
    "collapsed": true
   },
   "outputs": [],
   "source": [
    "\"\"\"\n",
    " Insert Node at the end of a linked list \n",
    " head pointer input could be None as well for empty list\n",
    " Node is defined as\n",
    " \"\"\"\n",
    "class Node(object):\n",
    " \n",
    "   def __init__(self, data=None, next_node=None):\n",
    "        self.data = data\n",
    "        self.next = next_node\n",
    " \n",
    " #return back the head of the linked list in the below method\n",
    "\n",
    "\n",
    "def Insert(head, data):\n",
    "\n",
    "    adding = Node(data)\n",
    "    temp = head\n",
    "    starting = head\n",
    "    while starting.next:\n",
    "        starting = starting.next\n",
    "    starting.next = adding\n",
    "    return temp\n"
   ]
  },
  {
   "cell_type": "code",
   "execution_count": 48,
   "metadata": {
    "collapsed": true
   },
   "outputs": [],
   "source": [
    "def Insert(head, data):\n",
    "\n",
    "    adding = Node(data)\n",
    "    temp = head\n",
    "    starting = head\n",
    "    while starting.next:\n",
    "        starting = starting.next\n",
    "    starting.next = adding\n",
    "    return temp"
   ]
  },
  {
   "cell_type": "code",
   "execution_count": 49,
   "metadata": {
    "collapsed": true
   },
   "outputs": [],
   "source": [
    "a = Node(1)\n",
    "b = Node(2)\n",
    "c = Node(3)\n",
    "a.next = b\n",
    "b.next = c\n",
    "d = Node(4)\n",
    "c.next = d"
   ]
  },
  {
   "cell_type": "code",
   "execution_count": 57,
   "metadata": {
    "collapsed": true
   },
   "outputs": [],
   "source": [
    "def ReversePrint(head):\n",
    "    if head == None:\n",
    "        return\n",
    "    p_stack = []\n",
    "    \n",
    "    while head:\n",
    "        p_stack.append(head)\n",
    "        head = head.next\n",
    "        \n",
    "    while p_stack:\n",
    "        print (p_stack.pop().data)"
   ]
  },
  {
   "cell_type": "code",
   "execution_count": 64,
   "metadata": {
    "collapsed": true
   },
   "outputs": [],
   "source": [
    "def reverse_recur(head):\n",
    "    if not head:\n",
    "        return\n",
    "    reverse_recur(head.next)\n",
    "    print (head.data)"
   ]
  },
  {
   "cell_type": "code",
   "execution_count": 66,
   "metadata": {
    "scrolled": true
   },
   "outputs": [
    {
     "name": "stdout",
     "output_type": "stream",
     "text": [
      "5\n",
      "4\n",
      "3\n",
      "2\n",
      "1\n"
     ]
    }
   ],
   "source": [
    "reverse_recur(a)"
   ]
  },
  {
   "cell_type": "code",
   "execution_count": 5,
   "metadata": {
    "collapsed": true
   },
   "outputs": [],
   "source": [
    "def print_out(head):\n",
    "    if not head:\n",
    "        return\n",
    "    print(head.data)\n",
    "    print_out(head.next)"
   ]
  },
  {
   "cell_type": "code",
   "execution_count": 6,
   "metadata": {
    "collapsed": true
   },
   "outputs": [],
   "source": [
    "def Reverse(head):\n",
    "    if head == None:\n",
    "        return\n",
    "    p_stack = []\n",
    "    \n",
    "    while head:\n",
    "        p_stack.append(head)\n",
    "        head = head.next\n",
    "    \n",
    "    #out = p_stack.pop()\n",
    "    #p_stack.append(out)\n",
    "    out = p_stack[len(p_stack)-1]\n",
    "    while p_stack:  \n",
    "        a = p_stack.pop()\n",
    "        if len(p_stack)== 0:\n",
    "            a.next = None\n",
    "        else:\n",
    "            a.next = p_stack[len(p_stack)-1]\n",
    "            #b = p_stack.pop()\n",
    "            #p_stack.append(b)\n",
    "            #a.next = b\n",
    "  \n",
    "    return out\n",
    "            \n",
    "    \n",
    "        "
   ]
  },
  {
   "cell_type": "code",
   "execution_count": 7,
   "metadata": {
    "collapsed": true
   },
   "outputs": [],
   "source": [
    "a = Node(1)\n",
    "b = Node(2)\n",
    "c = Node(3)\n",
    "a.next = b\n",
    "b.next = c\n",
    "d = Node(4)\n",
    "c.next = d\n"
   ]
  },
  {
   "cell_type": "code",
   "execution_count": 8,
   "metadata": {},
   "outputs": [
    {
     "name": "stdout",
     "output_type": "stream",
     "text": [
      "4\n",
      "3\n",
      "2\n",
      "1\n"
     ]
    }
   ],
   "source": [
    "print_out(Reverse(a))"
   ]
  },
  {
   "cell_type": "code",
   "execution_count": 9,
   "metadata": {
    "collapsed": true
   },
   "outputs": [],
   "source": [
    "def MergeLists(headA, headB):\n",
    "    if headA.data < headB.data:\n",
    "        start = headA\n",
    "        output = headA\n",
    "        headA = headA.next\n",
    "    else:\n",
    "        start = headB\n",
    "        output = headB\n",
    "        headB = headB.next\n",
    "        \n",
    "    while headA and headB:\n",
    "        if headA == None:\n",
    "                start.next = headB\n",
    "                return output\n",
    "        elif headB == None:\n",
    "                start.next = headA\n",
    "                return output\n",
    "        if headA.data < headB.data:\n",
    "            start.next = headA\n",
    "            start = start.next\n",
    "            headA = headA.next\n",
    "            \n",
    "        else:\n",
    "            start.next = headB\n",
    "            start = start.next\n",
    "            headB = headB.next\n",
    "\n",
    "    return output\n"
   ]
  },
  {
   "cell_type": "code",
   "execution_count": 10,
   "metadata": {},
   "outputs": [
    {
     "name": "stdout",
     "output_type": "stream",
     "text": [
      "1\n"
     ]
    }
   ],
   "source": [
    "z = MergeLists(a,a)\n",
    "print_out(z)"
   ]
  },
  {
   "cell_type": "code",
   "execution_count": 11,
   "metadata": {
    "collapsed": true
   },
   "outputs": [],
   "source": [
    "def RemoveDuplicates(head):\n",
    "    if not head:\n",
    "        return \n",
    "    start = head\n",
    "    while head:\n",
    "        next_val = head.next\n",
    "        \n",
    "        if not next_val:\n",
    "            return start\n",
    "        \n",
    "        while next_val and next_val.data == head.data:           \n",
    "            head.next = next_val.next\n",
    "            next_val = next_val.next\n",
    "        head = head.next\n",
    "        \n",
    "    return start"
   ]
  },
  {
   "cell_type": "code",
   "execution_count": 12,
   "metadata": {
    "collapsed": true
   },
   "outputs": [],
   "source": [
    "aa = Node(1)"
   ]
  },
  {
   "cell_type": "code",
   "execution_count": 13,
   "metadata": {
    "collapsed": true
   },
   "outputs": [],
   "source": [
    "aaa = Node(1)"
   ]
  },
  {
   "cell_type": "code",
   "execution_count": 14,
   "metadata": {
    "collapsed": true
   },
   "outputs": [],
   "source": [
    "aa.next = aaa"
   ]
  },
  {
   "cell_type": "code",
   "execution_count": 15,
   "metadata": {},
   "outputs": [
    {
     "name": "stdout",
     "output_type": "stream",
     "text": [
      "1\n",
      "1\n"
     ]
    }
   ],
   "source": [
    "print_out(aa)"
   ]
  },
  {
   "cell_type": "code",
   "execution_count": 16,
   "metadata": {},
   "outputs": [
    {
     "data": {
      "text/plain": [
       "<__main__.Node at 0x2ade050dbe0>"
      ]
     },
     "execution_count": 16,
     "metadata": {},
     "output_type": "execute_result"
    }
   ],
   "source": [
    "RemoveDuplicates(aa)"
   ]
  },
  {
   "cell_type": "code",
   "execution_count": 17,
   "metadata": {
    "collapsed": true
   },
   "outputs": [],
   "source": [
    "def has_cycle(head):\n",
    "    if not head:\n",
    "        return 0\n",
    "    \n",
    "    while head:\n",
    "        nex = head.next\n",
    "        nnex = head.next.next\n",
    "        if nex and nnex and head == nnex:\n",
    "            return 1\n",
    "        \n",
    "        head = head.next\n",
    "    \n",
    "    return 0\n"
   ]
  },
  {
   "cell_type": "code",
   "execution_count": 18,
   "metadata": {
    "collapsed": true
   },
   "outputs": [],
   "source": [
    "class Node(object):\n",
    " \n",
    "   def __init__(self, data=None, next_node=None, prev_node = None):\n",
    "        self.data = data\n",
    "        self.next = next_node\n",
    "        self.prev = prev_node"
   ]
  },
  {
   "cell_type": "code",
   "execution_count": 19,
   "metadata": {
    "collapsed": true
   },
   "outputs": [],
   "source": [
    "def SortedInsert(head, data):\n",
    "    k = Node(data)\n",
    "    if not head:\n",
    "        return k     \n",
    "        \n",
    "    if head.data > data:\n",
    "        k.next = head\n",
    "        head.prev = k\n",
    "        return k\n",
    "    \n",
    "    runner = head\n",
    "    while (runner.next) and (runner.next.data < data):\n",
    "        runner = runner.next\n",
    "        \"\"\"if runner.next == None:            \n",
    "            runner.next = k\n",
    "            k.prev = runner\n",
    "            return head\n",
    "            \"\"\"\n",
    "               \n",
    "    temp = runner.next\n",
    "    if temp == None:\n",
    "        runner.next = k\n",
    "        k.prev = runner\n",
    "    else:\n",
    "        runner.next = k\n",
    "        k.next = temp\n",
    "        k.prev = runner\n",
    "        temp.prev = k\n",
    "    \n",
    "    return head"
   ]
  },
  {
   "cell_type": "code",
   "execution_count": 20,
   "metadata": {},
   "outputs": [
    {
     "data": {
      "text/plain": [
       "<__main__.Node at 0x2ade051b518>"
      ]
     },
     "execution_count": 20,
     "metadata": {},
     "output_type": "execute_result"
    }
   ],
   "source": [
    "z = SortedInsert(None,1)\n",
    "SortedInsert(z,2)\n",
    "SortedInsert(z,5)\n",
    "SortedInsert(z,4)\n"
   ]
  },
  {
   "cell_type": "code",
   "execution_count": 21,
   "metadata": {},
   "outputs": [
    {
     "name": "stdout",
     "output_type": "stream",
     "text": [
      "1\n",
      "2\n",
      "4\n",
      "5\n"
     ]
    }
   ],
   "source": [
    "print_out(z)"
   ]
  },
  {
   "cell_type": "code",
   "execution_count": 26,
   "metadata": {
    "collapsed": true
   },
   "outputs": [],
   "source": [
    "def Reverse(head):\n",
    "    if head == None:\n",
    "        return\n",
    "    \n",
    "    previ = None\n",
    "    current = head\n",
    "    while current != None:\n",
    "        next_a = current.next\n",
    "        current.next = previ\n",
    "        current.prev = next_a\n",
    "        previ = current\n",
    "        current = next_a\n",
    "        \n",
    "    return previ\n",
    "\n",
    "\n"
   ]
  },
  {
   "cell_type": "code",
   "execution_count": 30,
   "metadata": {},
   "outputs": [
    {
     "name": "stdout",
     "output_type": "stream",
     "text": [
      "1\n",
      "2\n",
      "4\n",
      "5\n",
      "1\n"
     ]
    }
   ],
   "source": [
    "z = SortedInsert(None,1)\n",
    "SortedInsert(z,2)\n",
    "SortedInsert(z,5)\n",
    "SortedInsert(z,4)\n",
    "print_out(z)\n",
    "Reverse(z)\n",
    "print_out(z)"
   ]
  },
  {
   "cell_type": "code",
   "execution_count": 40,
   "metadata": {
    "collapsed": true
   },
   "outputs": [],
   "source": [
    "a = [1, 2, 5, 3, 4, 6]\n",
    "a.append(str(7))"
   ]
  },
  {
   "cell_type": "code",
   "execution_count": 41,
   "metadata": {},
   "outputs": [
    {
     "name": "stdout",
     "output_type": "stream",
     "text": [
      "1253467\n"
     ]
    }
   ],
   "source": [
    "print (''.join(str(e) for e in a))"
   ]
  },
  {
   "cell_type": "code",
   "execution_count": 42,
   "metadata": {
    "collapsed": true
   },
   "outputs": [],
   "source": [
    "def inOrder(root):\n",
    "    #Write your code here\n",
    "    if root.left != None:\n",
    "        inOrder(root.left)\n",
    "    print (root.data, end=' ')\n",
    "    if root.right != None:\n",
    "        inOrder(root.right)"
   ]
  },
  {
   "cell_type": "code",
   "execution_count": null,
   "metadata": {
    "collapsed": true
   },
   "outputs": [],
   "source": []
  }
 ],
 "metadata": {
  "kernelspec": {
   "display_name": "Python 3",
   "language": "python",
   "name": "python3"
  },
  "language_info": {
   "codemirror_mode": {
    "name": "ipython",
    "version": 3
   },
   "file_extension": ".py",
   "mimetype": "text/x-python",
   "name": "python",
   "nbconvert_exporter": "python",
   "pygments_lexer": "ipython3",
   "version": "3.6.2"
  }
 },
 "nbformat": 4,
 "nbformat_minor": 2
}
