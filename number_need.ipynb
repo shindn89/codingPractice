{
 "cells": [
  {
   "cell_type": "code",
   "execution_count": 63,
   "metadata": {},
   "outputs": [],
   "source": [
    "def number_needed(a, b):\n",
    "    i=0\n",
    "    j=0\n",
    "    cont = 0\n",
    "    left = sorted(a)\n",
    "    right = sorted(b)\n",
    "    if(len(left) == 0):\n",
    "        return len(right)\n",
    "    if(len(right) == 0):\n",
    "        return len(left)\n",
    "    while i<len(left)-1 and j<len(right)-1:\n",
    "        \n",
    "        if left[i] == right[j]:\n",
    "            i+=1\n",
    "            j+=1\n",
    "        \n",
    "        if left[i] > right[j]:\n",
    "            j+=1\n",
    "            cont+=1\n",
    "        if left[i] < right[j]:\n",
    "            i+=1\n",
    "            cont+=1\n",
    "\n",
    "    return cont + (len(left)-i-1) +(len(right)-j-1)\n"
   ]
  },
  {
   "cell_type": "code",
   "execution_count": 79,
   "metadata": {},
   "outputs": [
    {
     "name": "stdout",
     "output_type": "stream",
     "text": [
      "7\n",
      "72\n"
     ]
    }
   ],
   "source": [
    "a =  \"aaaaaa23adfxcvaaaaaaaaaaaaaaaaadddddddddddddddddddddddegggggggggggcccccc\"\n",
    "b = \"acgg ss\"\n",
    "c=\"\"\n",
    "print(number_needed(c,b))\n",
    "\n",
    "print(len(a))"
   ]
  },
  {
   "cell_type": "code",
   "execution_count": 77,
   "metadata": {},
   "outputs": [
    {
     "data": {
      "text/plain": [
       "1"
      ]
     },
     "execution_count": 77,
     "metadata": {},
     "output_type": "execute_result"
    }
   ],
   "source": [
    "number_needed(\"aa\",\"aac\")"
   ]
  },
  {
   "cell_type": "code",
   "execution_count": null,
   "metadata": {
    "collapsed": true
   },
   "outputs": [],
   "source": []
  }
 ],
 "metadata": {
  "kernelspec": {
   "display_name": "Python 3",
   "language": "python",
   "name": "python3"
  },
  "language_info": {
   "codemirror_mode": {
    "name": "ipython",
    "version": 3
   },
   "file_extension": ".py",
   "mimetype": "text/x-python",
   "name": "python",
   "nbconvert_exporter": "python",
   "pygments_lexer": "ipython3",
   "version": "3.6.2"
  }
 },
 "nbformat": 4,
 "nbformat_minor": 2
}
