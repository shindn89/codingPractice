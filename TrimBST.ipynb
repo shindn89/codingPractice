{
 "cells": [
  {
   "cell_type": "code",
   "execution_count": 12,
   "metadata": {
    "collapsed": true
   },
   "outputs": [],
   "source": [
    "class Node:\n",
    "    def __init__(self, val=None):\n",
    "        self.left = None\n",
    "        self.right = None\n",
    "        self.data =  val "
   ]
  },
  {
   "cell_type": "code",
   "execution_count": 13,
   "metadata": {
    "collapsed": true
   },
   "outputs": [],
   "source": [
    "a = Node(8)\n",
    "b = Node(3)\n",
    "c = Node(1)\n",
    "d = Node(6)\n",
    "e = Node(4)\n",
    "f = Node(7)\n",
    "g = Node(10)\n",
    "h = Node(14)\n",
    "i = Node(13)\n",
    "\n",
    "a.left = b\n",
    "a.right = g\n",
    "b.left = c\n",
    "b.right = d\n",
    "d.left = e\n",
    "d.right = f\n",
    "g.right = h\n",
    "h.left = i\n",
    "\n"
   ]
  },
  {
   "cell_type": "code",
   "execution_count": 14,
   "metadata": {
    "collapsed": true
   },
   "outputs": [],
   "source": [
    "def inorder(root):\n",
    "    if root.left: \n",
    "        inorder(root.left)\n",
    "    print(root.data)\n",
    "    if root.right: \n",
    "        inorder(root.right)"
   ]
  },
  {
   "cell_type": "code",
   "execution_count": 26,
   "metadata": {
    "collapsed": true
   },
   "outputs": [],
   "source": [
    "def preorder(root):\n",
    "    print(root.data)\n",
    "    if root.left:\n",
    "        preorder(root.left)\n",
    "    if root.right:\n",
    "        preorder(root.right)"
   ]
  },
  {
   "cell_type": "code",
   "execution_count": 27,
   "metadata": {},
   "outputs": [
    {
     "name": "stdout",
     "output_type": "stream",
     "text": [
      "6\n",
      "7\n",
      "8\n",
      "10\n",
      "13\n"
     ]
    }
   ],
   "source": [
    "inorder(a)"
   ]
  },
  {
   "cell_type": "code",
   "execution_count": 23,
   "metadata": {
    "collapsed": true
   },
   "outputs": [],
   "source": [
    "def trimBST(root,minVal,maxVal):\n",
    "    if not root:\n",
    "        return\n",
    "    if root.data > maxVal:\n",
    "        return trimBST(root.left,minVal,maxVal)\n",
    "    if root.data < minVal:\n",
    "        return trimBST(root.right,minVal,maxVal)\n",
    "    \n",
    "    if root.data <= maxVal and root.data >= minVal:\n",
    "        if root.left:\n",
    "            root.left = trimBST(root.left,minVal,maxVal)\n",
    "        if root.right:\n",
    "            root.right = trimBST(root.right,minVal,maxVal)\n",
    "    \n",
    "\n",
    "    return root"
   ]
  },
  {
   "cell_type": "code",
   "execution_count": 28,
   "metadata": {},
   "outputs": [
    {
     "name": "stdout",
     "output_type": "stream",
     "text": [
      "8\n",
      "6\n",
      "7\n",
      "10\n",
      "13\n"
     ]
    }
   ],
   "source": [
    "preorder(trimBST(a,5,13))"
   ]
  },
  {
   "cell_type": "markdown",
   "metadata": {},
   "source": [
    "**\n",
    "This is recurssion algorithm, traversal the tree.\n",
    "The complexity of this algorithms is O(N), since we visit all nodes once. This is optimal becuase we should visit every node at least once\n",
    "**"
   ]
  },
  {
   "cell_type": "code",
   "execution_count": 29,
   "metadata": {
    "collapsed": true
   },
   "outputs": [],
   "source": [
    "def levelOrder(root):\n",
    "   #Write code Here\n",
    "    if root:\n",
    "        mQueue = []\n",
    "        mQueue.insert(0,root)\n",
    "        while mQueue:\n",
    "            a = mQueue.pop()\n",
    "            print (a.data, end=\" \")\n",
    "            if a.left:\n",
    "                mQueue.insert(0,a.left)\n",
    "            if a.right:\n",
    "                mQueue.insert(0,a.right)\n",
    "    else:\n",
    "        return"
   ]
  },
  {
   "cell_type": "code",
   "execution_count": 30,
   "metadata": {},
   "outputs": [
    {
     "name": "stdout",
     "output_type": "stream",
     "text": [
      "8 6 10 7 13 "
     ]
    }
   ],
   "source": [
    "levelOrder(a)"
   ]
  },
  {
   "cell_type": "code",
   "execution_count": null,
   "metadata": {
    "collapsed": true
   },
   "outputs": [],
   "source": []
  }
 ],
 "metadata": {
  "kernelspec": {
   "display_name": "Python 3",
   "language": "python",
   "name": "python3"
  },
  "language_info": {
   "codemirror_mode": {
    "name": "ipython",
    "version": 3
   },
   "file_extension": ".py",
   "mimetype": "text/x-python",
   "name": "python",
   "nbconvert_exporter": "python",
   "pygments_lexer": "ipython3",
   "version": "3.6.2"
  }
 },
 "nbformat": 4,
 "nbformat_minor": 2
}
